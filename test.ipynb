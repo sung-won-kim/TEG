{
 "cells": [
  {
   "cell_type": "code",
   "execution_count": 1,
   "metadata": {},
   "outputs": [],
   "source": [
    "class_list_train, class_list_valid, class_list_test = [[3, 8, 17, 20, 21, 24, 25, 26, 28, 32, 35, 36, 37, 38, 40, 42, 44, 47, 52, 55, 57, 62, 63, 67, 69], [\n",
    "            2, 51, 48, 27, 13, 54, 46, 64, 16, 68, 6, 31, 60, 33, 65, 43, 23, 19, 18, 34], [56, 14, 0, 11, 4, 10, 12, 49, 22, 15, 1, 59, 50, 58, 61, 41, 39, 30, 53, 29, 9, 5, 66, 45, 7]]"
   ]
  },
  {
   "cell_type": "code",
   "execution_count": 15,
   "metadata": {},
   "outputs": [],
   "source": [
    "import pickle\n",
    "cls_split = [[3, 8, 17, 20, 21, 24, 25, 26, 28, 32, 35, 36, 37, 38, 40, 42, 44, 47, 52, 55, 57, 62, 63, 67, 69], [\n",
    "            2, 51, 48, 27, 13, 54, 46, 64, 16, 68, 6, 31, 60, 33, 65, 43, 23, 19, 18, 34], [56, 14, 0, 11, 4, 10, 12, 49, 22, 15, 1, 59, 50, 58, 61, 41, 39, 30, 53, 29, 9, 5, 66, 45, 7]]\n",
    "with open(file='./dataset/cora/cls_split.pkl', mode='wb') as f:\n",
    "    pickle.dump(cls_split, f)"
   ]
  },
  {
   "cell_type": "code",
   "execution_count": 3,
   "metadata": {},
   "outputs": [],
   "source": [
    "with open(file='./dataset/cora/cls_split.pkl', mode='rb') as f:\n",
    "    class_list_train, class_list_valid, class_list_test = pickle.load(f)"
   ]
  },
  {
   "cell_type": "code",
   "execution_count": 9,
   "metadata": {},
   "outputs": [
    {
     "data": {
      "text/plain": [
       "21"
      ]
     },
     "execution_count": 9,
     "metadata": {},
     "output_type": "execute_result"
    }
   ],
   "source": [
    "class_list_train[4]"
   ]
  },
  {
   "cell_type": "code",
   "execution_count": 5,
   "metadata": {},
   "outputs": [
    {
     "data": {
      "text/plain": [
       "[2, 51, 48, 27, 13, 54, 46, 64, 16, 68, 6, 31, 60, 33, 65, 43, 23, 19, 18, 34]"
      ]
     },
     "execution_count": 5,
     "metadata": {},
     "output_type": "execute_result"
    }
   ],
   "source": [
    "class_list_valid"
   ]
  },
  {
   "cell_type": "code",
   "execution_count": null,
   "metadata": {},
   "outputs": [],
   "source": []
  }
 ],
 "metadata": {
  "kernelspec": {
   "display_name": "basic1",
   "language": "python",
   "name": "python3"
  },
  "language_info": {
   "codemirror_mode": {
    "name": "ipython",
    "version": 3
   },
   "file_extension": ".py",
   "mimetype": "text/x-python",
   "name": "python",
   "nbconvert_exporter": "python",
   "pygments_lexer": "ipython3",
   "version": "3.8.16"
  },
  "orig_nbformat": 4
 },
 "nbformat": 4,
 "nbformat_minor": 2
}
